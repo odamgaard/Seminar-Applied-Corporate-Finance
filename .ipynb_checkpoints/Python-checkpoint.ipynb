{
 "cells": [
  {
   "cell_type": "markdown",
   "id": "32f5a28d-67f5-4ab3-9a1c-1f0f94a6335e",
   "metadata": {},
   "source": [
    "## Imports"
   ]
  },
  {
   "cell_type": "code",
   "execution_count": 1,
   "id": "42a1c59b-d44a-4e8b-816a-44994f7bdd65",
   "metadata": {},
   "outputs": [],
   "source": [
    "# Packages and data"
   ]
  },
  {
   "cell_type": "code",
   "execution_count": null,
   "id": "da75242b-c0e7-44be-984f-af90800ae4d7",
   "metadata": {},
   "outputs": [],
   "source": []
  }
 ],
 "metadata": {
  "kernelspec": {
   "display_name": "Python 3 (ipykernel)",
   "language": "python",
   "name": "python3"
  },
  "language_info": {
   "codemirror_mode": {
    "name": "ipython",
    "version": 3
   },
   "file_extension": ".py",
   "mimetype": "text/x-python",
   "name": "python",
   "nbconvert_exporter": "python",
   "pygments_lexer": "ipython3",
   "version": "3.11.5"
  }
 },
 "nbformat": 4,
 "nbformat_minor": 5
}
