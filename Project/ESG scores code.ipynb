{
 "cells": [
  {
   "cell_type": "markdown",
   "id": "73923b99-9470-4fea-a584-ed3463058d16",
   "metadata": {},
   "source": [
    "## Scrape ESG scores for S&P500"
   ]
  },
  {
   "cell_type": "code",
   "execution_count": null,
   "id": "fc3c4a2f-8baa-4eb7-8ba1-66b7c89264fb",
   "metadata": {},
   "outputs": [],
   "source": []
  }
 ],
 "metadata": {
  "kernelspec": {
   "display_name": "Python 3 (ipykernel)",
   "language": "python",
   "name": "python3"
  },
  "language_info": {
   "codemirror_mode": {
    "name": "ipython",
    "version": 3
   },
   "file_extension": ".py",
   "mimetype": "text/x-python",
   "name": "python",
   "nbconvert_exporter": "python",
   "pygments_lexer": "ipython3",
   "version": "3.11.5"
  }
 },
 "nbformat": 4,
 "nbformat_minor": 5
}
